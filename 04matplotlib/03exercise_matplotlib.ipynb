{
 "cells": [
  {
   "cell_type": "markdown",
   "metadata": {},
   "source": [
    "## MATPLOTLIB EXERCISE\n",
    "\n",
    "In this exercise we are going to use the `matplolib` module to learn how to plot."
   ]
  },
  {
   "cell_type": "markdown",
   "metadata": {},
   "source": [
    "#### Imoprt `matplotlib` and `numpy` into the notebook"
   ]
  },
  {
   "cell_type": "code",
   "execution_count": null,
   "metadata": {},
   "outputs": [],
   "source": []
  },
  {
   "cell_type": "markdown",
   "metadata": {},
   "source": [
    "#### Load the data from the folder"
   ]
  },
  {
   "cell_type": "code",
   "execution_count": null,
   "metadata": {},
   "outputs": [],
   "source": []
  },
  {
   "cell_type": "markdown",
   "metadata": {},
   "source": [
    "#### Data explainantion:\n",
    "1. Google trends data for:\n",
    "2. Containing data about popularity of different news sites in Israel.\n",
    "3. column number 0: weeks - from 1 to 260.\n",
    "4. column number 1: ynet.\n",
    "5. column number 2: haaretz.\n",
    "6. column number 3: walla."
   ]
  },
  {
   "cell_type": "markdown",
   "metadata": {},
   "source": [
    "#### First plot\n",
    "7. Open new figure, with one axis on it.\n",
    "8. Plot the ynet as function of weeks "
   ]
  },
  {
   "cell_type": "code",
   "execution_count": null,
   "metadata": {},
   "outputs": [],
   "source": []
  },
  {
   "cell_type": "markdown",
   "metadata": {},
   "source": [
    "#### Multiple plots of all sites.\n",
    "9. Write a for loop that runs on the columns of the news sites.\n",
    "10. In each loop open a new figure.\n",
    "11. And plot the current news site as function of weeks to the figure."
   ]
  },
  {
   "cell_type": "code",
   "execution_count": null,
   "metadata": {},
   "outputs": [],
   "source": []
  },
  {
   "cell_type": "markdown",
   "metadata": {},
   "source": [
    "#### Multiple plots on the same figure.\n",
    "12. Plot all the newsites to the same figure."
   ]
  },
  {
   "cell_type": "code",
   "execution_count": null,
   "metadata": {},
   "outputs": [],
   "source": []
  },
  {
   "cell_type": "markdown",
   "metadata": {},
   "source": [
    "#### Multiple plots on the same figure with specific colors.\n",
    "13. Plot all the newsites to the same figure.\n",
    "14. This time Ynet in red, Haaretz in blue and walla in black."
   ]
  },
  {
   "cell_type": "code",
   "execution_count": null,
   "metadata": {},
   "outputs": [],
   "source": []
  },
  {
   "cell_type": "markdown",
   "metadata": {},
   "source": [
    "#### Multiple plots line properties.\n",
    "14. Plot all the newsites to the same figure.\n",
    "15. This time Ynet in red, Haaretz in blue and walla in black.\n",
    "16. Change the line width to 2. for all news papers.\n",
    "17. Choose a different line style to each news site.\n",
    "18. Choose a different marker style to each news site."
   ]
  },
  {
   "cell_type": "code",
   "execution_count": null,
   "metadata": {},
   "outputs": [],
   "source": []
  },
  {
   "cell_type": "markdown",
   "metadata": {},
   "source": [
    "#### Plot titles and labels.\n",
    "19. Plot all the newsites to the same figure.\n",
    "20. This time Ynet in red, Haaretz in blue and walla in black.\n",
    "21. Add label to each news site.\n",
    "22. Add the title: `New sites in Israel` to the plot \n",
    "23. Add x labels: `Weeks`\n",
    "24. Add y labels: `Popularity`"
   ]
  },
  {
   "cell_type": "code",
   "execution_count": null,
   "metadata": {},
   "outputs": [],
   "source": []
  },
  {
   "cell_type": "markdown",
   "metadata": {},
   "source": [
    "#### Subplots\n",
    "25. Open new figure, with 3 axis on it in one row."
   ]
  },
  {
   "cell_type": "code",
   "execution_count": null,
   "metadata": {},
   "outputs": [],
   "source": []
  },
  {
   "cell_type": "markdown",
   "metadata": {},
   "source": [
    "#### Plot to subplot\n",
    "26. Use a for loop (with enumerate - see in class) that runs on the new sites.\n",
    "27. Plot each news site to different subplot."
   ]
  },
  {
   "cell_type": "code",
   "execution_count": null,
   "metadata": {},
   "outputs": [],
   "source": []
  },
  {
   "cell_type": "markdown",
   "metadata": {},
   "source": [
    "#### Subplot titles and labels.\n",
    "28. Use a for loop (with enumerate - see in class) that runs on the new sites.\n",
    "29. Plot each news site to different subplot.\n",
    "30. For  each subplot.\n",
    "31. Add the title: `<The news site name> popularity in Israel` to the subplot.\n",
    "32. Add x labels: `Weeks`\n",
    "33. Add y labels: `Popularity`\n",
    "34. Use `tight_layout()` function."
   ]
  },
  {
   "cell_type": "code",
   "execution_count": null,
   "metadata": {},
   "outputs": [],
   "source": []
  },
  {
   "cell_type": "markdown",
   "metadata": {},
   "source": [
    "#### Twin axes\n",
    "35. Plot all the `Ynet` and `Haaretz` newsites to the same figure.\n",
    "36. This time use `twinx()` for `Haaretz`."
   ]
  },
  {
   "cell_type": "code",
   "execution_count": null,
   "metadata": {},
   "outputs": [],
   "source": []
  },
  {
   "cell_type": "markdown",
   "metadata": {},
   "source": [
    "#### Twin axes properties\n",
    "35. Plot all the `Ynet` and `Haaretz` newsites to the same figure.\n",
    "36. This time use `twinx()` for `Haaretz`.\n",
    "37. Set the x label to: `Weeks`\n",
    "38. For each news site change the ylabel to  `<The news site name> popularity in Israel`\n",
    "39. Give to each news site, its `yticklabels()`, `ylabel` and `spine` the same color. "
   ]
  },
  {
   "cell_type": "code",
   "execution_count": null,
   "metadata": {},
   "outputs": [],
   "source": []
  },
  {
   "cell_type": "markdown",
   "metadata": {},
   "source": [
    "#### Scatter plot\n",
    "40. Open new figure with 1 axis on it.\n",
    "41. Plot a scatter plot of `Ynet` as function of `Walla`\n",
    "42. Give title, xlabel and ylabel to the graph."
   ]
  },
  {
   "cell_type": "code",
   "execution_count": null,
   "metadata": {},
   "outputs": [],
   "source": []
  },
  {
   "cell_type": "markdown",
   "metadata": {},
   "source": [
    "#### Bar plot\n",
    "43. Open new figure with 1 axis on it.\n",
    "44. Calculate the means of popularity for all news sites.\n",
    "45. Plot a bar plot of all news sites means.\n",
    "46. Give title, xlabel and ylabel to the graph."
   ]
  },
  {
   "cell_type": "code",
   "execution_count": null,
   "metadata": {},
   "outputs": [],
   "source": []
  },
  {
   "cell_type": "markdown",
   "metadata": {},
   "source": [
    "#### Histogram\n",
    "47. Open new figure with 1 axis on it.\n",
    "48. Plot a histogram of `Ynet`.\n",
    "49. Give title, xlabel and ylabel to the graph."
   ]
  },
  {
   "cell_type": "code",
   "execution_count": null,
   "metadata": {},
   "outputs": [],
   "source": []
  },
  {
   "cell_type": "markdown",
   "metadata": {},
   "source": [
    " #### Save the figure\n",
    " 50. Save the histogram to a file called 'ynet_hist.png'\n",
    " 51. Make sure you use `300dpi`"
   ]
  },
  {
   "cell_type": "code",
   "execution_count": null,
   "metadata": {},
   "outputs": [],
   "source": []
  }
 ],
 "metadata": {
  "kernelspec": {
   "display_name": "Python 3",
   "language": "python",
   "name": "python3"
  },
  "language_info": {
   "codemirror_mode": {
    "name": "ipython",
    "version": 3
   },
   "file_extension": ".py",
   "mimetype": "text/x-python",
   "name": "python",
   "nbconvert_exporter": "python",
   "pygments_lexer": "ipython3",
   "version": "3.6.5"
  },
  "varInspector": {
   "cols": {
    "lenName": 16.0,
    "lenType": 16.0,
    "lenVar": 40.0
   },
   "kernels_config": {
    "python": {
     "delete_cmd_postfix": "",
     "delete_cmd_prefix": "del ",
     "library": "var_list.py",
     "varRefreshCmd": "print(var_dic_list())"
    },
    "r": {
     "delete_cmd_postfix": ") ",
     "delete_cmd_prefix": "rm(",
     "library": "var_list.r",
     "varRefreshCmd": "cat(var_dic_list()) "
    }
   },
   "types_to_exclude": [
    "module",
    "function",
    "builtin_function_or_method",
    "instance",
    "_Feature"
   ],
   "window_display": false
  }
 },
 "nbformat": 4,
 "nbformat_minor": 2
}
