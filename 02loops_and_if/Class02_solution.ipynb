{
 "cells": [
  {
   "cell_type": "markdown",
   "metadata": {},
   "source": [
    "## Playing with google trends"
   ]
  },
  {
   "cell_type": "markdown",
   "metadata": {},
   "source": [
    "- Create an empty dicitionary called `trends`\n",
    "- Go to [google top trends](https://trends.google.com/trends/yis/2017/GLOBAL/)\n",
    "- Create the following lists:\n",
    "    - global_news\n",
    "    - songs\n",
    "    - searches\n",
    "    - one more of your choice\n",
    "- Insert the list to `trends` dictionary. For each list the key should be the list's name.\n",
    "- Using for loop print all the keys of the dictionary.\n",
    "- Using while loop print all the values of the dictionary."
   ]
  },
  {
   "cell_type": "code",
   "execution_count": 18,
   "metadata": {},
   "outputs": [
    {
     "name": "stdout",
     "output_type": "stream",
     "text": [
      "gn ['Hurricane Irma', 'Bitcoin', 'Las Vegas Shooting', 'North Korea', 'Solar Eclipse']\n",
      "a ['cat', 'dogs']\n",
      "gn\n",
      "a\n",
      "['Hurricane Irma', 'Bitcoin', 'Las Vegas Shooting', 'North Korea', 'Solar Eclipse']\n",
      "['cat', 'dogs']\n"
     ]
    }
   ],
   "source": [
    "trends_dict = {}\n",
    "global_news = ['Hurricane Irma','Bitcoin','Las Vegas Shooting','North Korea', 'Solar Eclipse']\n",
    "animals = ['cat', 'dogs']\n",
    "\n",
    "trends_dict['gn'] = global_news\n",
    "trends_dict['a'] = animals\n",
    "\n",
    "for key, value in trends_dict.items():\n",
    "    print(key, value)\n",
    "    \n",
    "for key in trends_dict.keys():\n",
    "    print(key)  \n",
    "    \n",
    "for value in trends_dict.values():\n",
    "    print(value)    "
   ]
  },
  {
   "cell_type": "markdown",
   "metadata": {},
   "source": [
    "- Add a new key to the dictionary from user's input.\n",
    "- Fill up this key with a list given from user's input."
   ]
  },
  {
   "cell_type": "code",
   "execution_count": 17,
   "metadata": {},
   "outputs": [
    {
     "name": "stdout",
     "output_type": "stream",
     "text": [
      "What is your Google trend?colors\n",
      "Give the top 5 results of the trend?black, yellow\n",
      "{'global_news': ['Hurricane Irma', 'Bitcoin', 'Las Vegas Shooting', 'North Korea', 'Solar Eclipse'], 'colors': ['black', 'yellow']}\n"
     ]
    }
   ],
   "source": [
    "new_key = input('What is your Google trend?')\n",
    "new_value = input('Give the top 5 results of the trend?')\n",
    "trends_dict[new_key] = new_value.split(', ')\n",
    "print(trends_dict)"
   ]
  },
  {
   "cell_type": "markdown",
   "metadata": {},
   "source": [
    "- Sort the dicitionary alphabetically\n"
   ]
  },
  {
   "cell_type": "code",
   "execution_count": 19,
   "metadata": {},
   "outputs": [
    {
     "name": "stdout",
     "output_type": "stream",
     "text": [
      "{'gn': ['Hurricane Irma', 'Bitcoin', 'Las Vegas Shooting', 'North Korea', 'Solar Eclipse'], 'a': ['cat', 'dogs']}\n",
      "['a', 'gn']\n"
     ]
    }
   ],
   "source": [
    "print(trends_dict)\n",
    "print(sorted(trends_dict))"
   ]
  },
  {
   "cell_type": "markdown",
   "metadata": {},
   "source": [
    "### `python` trends\n",
    "\n",
    "Write a dicitionary containing the top 5 regions of python as keys and the intrest as values."
   ]
  },
  {
   "cell_type": "code",
   "execution_count": 20,
   "metadata": {},
   "outputs": [],
   "source": [
    "python_dict = {'China':100, 'st_Helena': 12, 'Singapore': 9, 'Israel': 9, 'South Korea':8}"
   ]
  },
  {
   "cell_type": "markdown",
   "metadata": {},
   "source": [
    "Little program that throw at you the number of python and you need to guess the country.\n",
    "\n",
    "The program stops after it loop on all values (random).\n",
    "\n",
    "Or when the user writes `quit`"
   ]
  },
  {
   "cell_type": "code",
   "execution_count": null,
   "metadata": {},
   "outputs": [],
   "source": [
    "# ---- import random module (libary of python that generates random numbers)\n",
    "import random \n",
    "\n",
    "python_dict = {'China':100, 'st_Helena': 12, 'Singapore': 9, 'Israel': 9, 'South Korea':8}\n",
    "\n",
    "# ---- generate random number between 0 and 4 (e.g. random_number == 2)\n",
    "random_number = random.randint(0,4)\n",
    "print(random_number)\n",
    "\n",
    "# ---- create a list of the keys of the dicitionary\n",
    "countries_list = list(python_dict.keys())\n",
    "print(countries_list)\n",
    "\n",
    "# ---- choose the country in the place: random_number  of the list (e.g. countries_list[2])\n",
    "country = countries_list[random_number] \n",
    "print(country)\n",
    "\n",
    "# ---- take the country which is a varible of a country's name (e.g. 'Singapore')\n",
    "# ---- take the value of the country from the dictionary (e.g. python_dict['Singapore'] which is equal to 9)\n",
    "country_value = python_dict[country]\n",
    "print(country_value)"
   ]
  },
  {
   "cell_type": "code",
   "execution_count": null,
   "metadata": {},
   "outputs": [
    {
     "name": "stdout",
     "output_type": "stream",
     "text": [
      "what country has 100 intrest in python\n",
      "china\n",
      "try again\n",
      "what country has 100 intrest in python\n",
      "China\n",
      "good job!\n",
      "what country has 9 intrest in python\n",
      "China\n",
      "try again\n",
      "what country has 9 intrest in python\n",
      "China\n",
      "try again\n",
      "Let's try another county\n"
     ]
    }
   ],
   "source": [
    "import random\n",
    "\n",
    "guess = None # At the begining the 'guess' variable is empty.\n",
    "num_of_games = 0 # at the begining the user haven't played any games.\n",
    "while num_of_games < 3:\n",
    "    # --- if the user wrote to quit the game it going out from the loop 'while num_of_games < 3'\n",
    "    if guess == 'quit':\n",
    "        break\n",
    "    N = len(python_dict.values())-1 # how many keys I have in 'python_dict'\n",
    "    r = random.randint(0,N) # random index from zero to the number of values in the dictionary\n",
    "\n",
    "    countries_list = list(python_dict.keys())\n",
    "    country = countries_list[r]\n",
    "    country_value = python_dict[country]\n",
    "    fails = 0 # how many times the user failed (in the current loop) to guess the write answer.\n",
    "    num_of_games += 1 # once the game started, every loop we add a game to the user.\n",
    "    \n",
    "    while guess != country: # if the user guessed wrong\n",
    "        if fails >=2: # if the user guesse wrong twice already.\n",
    "            print('Let\\'s try another county')\n",
    "            break\n",
    "        # --- create a string with value in it.\n",
    "        m = 'what country has {} intrest in python\\n'.format(python_dict[country])\n",
    "        # --- print the message to console and wait for input from the user.\n",
    "        guess = input(m)\n",
    "        \n",
    "        # --- if the user wrote to quit the game it going out from the loop 'while guess != country'\n",
    "        if guess == 'quit':\n",
    "            break\n",
    "        # --- if the user gave the right answer it prints 'good job!' and the games continues.\n",
    "        elif guess == country:\n",
    "            print('good job!')\n",
    "        else:\n",
    "            # if the user guessed wrong but less than two times, prints('try again') and add 1 to the count of fails.\n",
    "            if fails < 2:\n",
    "                print('try again')\n",
    "                fails += 1\n",
    "        "
   ]
  },
  {
   "cell_type": "code",
   "execution_count": null,
   "metadata": {},
   "outputs": [],
   "source": []
  },
  {
   "cell_type": "code",
   "execution_count": null,
   "metadata": {},
   "outputs": [],
   "source": []
  }
 ],
 "metadata": {
  "kernelspec": {
   "display_name": "Python 3",
   "language": "python",
   "name": "python3"
  },
  "varInspector": {
   "cols": {
    "lenName": 16,
    "lenType": 16,
    "lenVar": 40
   },
   "kernels_config": {
    "python": {
     "delete_cmd_postfix": "",
     "delete_cmd_prefix": "del ",
     "library": "var_list.py",
     "varRefreshCmd": "print(var_dic_list())"
    },
    "r": {
     "delete_cmd_postfix": ") ",
     "delete_cmd_prefix": "rm(",
     "library": "var_list.r",
     "varRefreshCmd": "cat(var_dic_list()) "
    }
   },
   "types_to_exclude": [
    "module",
    "function",
    "builtin_function_or_method",
    "instance",
    "_Feature"
   ],
   "window_display": true
  }
 },
 "nbformat": 4,
 "nbformat_minor": 2
}
