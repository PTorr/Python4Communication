{
 "cells": [
  {
   "cell_type": "markdown",
   "metadata": {},
   "source": [
    "<a name='exercises_looping'></a>Exercise01\n",
    "---\n",
    "#### <a name='exercise_mountain_heights'></a>Ex 1: Mountain Heights\n",
    "- Wikipedia has a list of the [tallest mountains in the world](http://en.wikipedia.org/wiki/List_of_mountains_by_elevation), with each mountain's elevation. Pick five mountains from this list.\n",
    "    - Create a dictionary with the mountain names as keys, and the elevations as values.\n",
    "    - Print out just the mountains' names, by looping through the keys of your dictionary.\n",
    "    - Print out just the mountains' elevations, by looping through the values of your dictionary.\n",
    "    - Print out a series of statements telling how tall each mountain is: \"Everest is 8848 meters tall.\"\n",
    "- Revise your output, if necessary.\n",
    "    - Make sure there is an introductory sentence describing the output for each loop you write.\n",
    "    - Make sure there is a blank line between each group of statements."
   ]
  },
  {
   "cell_type": "code",
   "execution_count": null,
   "metadata": {},
   "outputs": [],
   "source": []
  },
  {
   "cell_type": "markdown",
   "metadata": {},
   "source": [
    "#### Ex 1.2: Mountain Heights 2\n",
    "- Revise your final output from Mountain Heights, so that the information is listed in alphabetical order by each mountain's name.\n",
    "    - That is, print out a series of statements telling how tall each mountain is: \"Everest is 8848 meters tall.\"\n",
    "    - Make sure your output is in alphabetical order."
   ]
  },
  {
   "cell_type": "code",
   "execution_count": null,
   "metadata": {},
   "outputs": [],
   "source": []
  },
  {
   "cell_type": "markdown",
   "metadata": {},
   "source": [
    "#### Ex 1.2: Mountain Heights and ranges\n",
    "\n",
    "- Create a new dictionary, where the keys of the dictionary are once again the mountains' names. This time, the values of the dictionary are another dictionary. This dictionary should contain the elevation in either meters or feet, and the range that contains the mountain. For example: {'everest': {'elevation': 8848, 'range': 'himalaya'}}.\n",
    "    - Print out just the mountains' names.\n",
    "    - Print out just the mountains' elevations.\n",
    "    - Print out just the range for each mountain.\n",
    "    - Print out a series of statements that say everything you know about each mountain: \"Everest is an 8848-meter tall mountain in the Himalaya range.\""
   ]
  },
  {
   "cell_type": "code",
   "execution_count": null,
   "metadata": {},
   "outputs": [],
   "source": []
  },
  {
   "cell_type": "markdown",
   "metadata": {},
   "source": [
    "<a name='overall_challenges'></a>Summary exercise\n",
    "===\n",
    "#### Word Wall\n",
    "- A word wall is a place on your wall where you keep track of the new words and meanings you are learning. Write a terminal app that lets you enter new words, and a meaning for each word.\n",
    "    - Your app should have a title bar that says the name of your program.\n",
    "    - Your program should give users the option to see all words and meanings that have been entered so far.\n",
    "    - Your program should give users the option to enter a new word and meaning.\n",
    "        - Your program must not allow duplicate entries.\n",
    "    - Your program should give users the option to modify an existing meaning.\n",
    "- Bonus Features\n",
    "    - Turn the program into a game that quizzes users on words and meanings.\n",
    "\n",
    "#### Periodic Table App\n",
    "- The [Periodic Table](http://www.ptable.com/) of the Elements was developed to organize information about the elements that make up the Universe. Write a terminal app that lets you enter information about each element in the periodic table.\n",
    "    - Make sure you include the following information:\n",
    "        - symbol, name, atomic number, row, and column\n",
    "    - Provide a menu of options for users to:\n",
    "        - See all the information that is stored about any element, by entering that element's symbol.\n",
    "        - Choose a property, and see that property for each element in the table."
   ]
  },
  {
   "cell_type": "code",
   "execution_count": null,
   "metadata": {},
   "outputs": [],
   "source": []
  }
 ],
 "metadata": {
  "kernelspec": {
   "display_name": "Python 3",
   "language": "python",
   "name": "python3"
  },
  "language_info": {
   "codemirror_mode": {
    "name": "ipython",
    "version": 3
   },
   "file_extension": ".py",
   "mimetype": "text/x-python",
   "name": "python",
   "nbconvert_exporter": "python",
   "pygments_lexer": "ipython3",
   "version": "3.6.5"
  }
 },
 "nbformat": 4,
 "nbformat_minor": 2
}
