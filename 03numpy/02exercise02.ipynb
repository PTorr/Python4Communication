{
 "cells": [
  {
   "cell_type": "markdown",
   "metadata": {},
   "source": [
    "# Exercise 02 - Numpy\n",
    "### In this exercise we are going to work with a dataset of python trends of 6 years.\n",
    "1. In the folder of you project download the dataset file called python_trends from the drive.\n",
    "       a. The 1st - column is day, 2nd - month, 3rd - year, 4th - intrest.\n",
    "2. Load the data into python. hint: np.genfromtxt(name od the file, delimiter=',')\n",
    "3. Check that there is 31 days unique values.\n",
    "4. Check that there is 12 months unique values.\n",
    "5. Check that there is 6 years unique values. And print what are the years.\n",
    "6. Find what is the minmum, maximum, mean intrest value.\n",
    "7. Find what is the minmum, maximum, mean intrest value per year.\n",
    "8. Find what is the month with the lowest mean intrest value.\n",
    "9. Find what is the day with the lowest mean intrest value.\n",
    "10. Find the day with the minimum vlaue of each year. (6 values in total)\n",
    "        a. Do you know why python intrest drop at this specific date?\n",
    "11. Save the mean value of the intrest per year per month:\n",
    "        a. 1st coulmn year, 2nd column month, 3rd column\n",
    "        b. example row: 2017, 1, 85"
   ]
  },
  {
   "cell_type": "markdown",
   "metadata": {},
   "source": [
    "## For all of you that are working with google colab, use this code:"
   ]
  },
  {
   "cell_type": "code",
   "execution_count": 6,
   "metadata": {},
   "outputs": [
    {
     "name": "stdout",
     "output_type": "stream",
     "text": [
      "(261, 4)\n"
     ]
    }
   ],
   "source": [
    "import numpy as np\n",
    "import requests\n",
    "import io\n",
    "\n",
    "url = 'https://raw.githubusercontent.com/PTorr/Python4Communication/master/03numpy/python_trends_pd.csv'\n",
    "s = requests.get(url).content\n",
    "data = pd.read_csv(io.StringIO(s.decode('utf-8')), index_col=0).values\n",
    "print(data.shape)"
   ]
  },
  {
   "cell_type": "markdown",
   "metadata": {},
   "source": [
    "## For all of you that are NOT working with google colab, use this code:"
   ]
  },
  {
   "cell_type": "code",
   "execution_count": 1,
   "metadata": {},
   "outputs": [],
   "source": [
    "import numpy as np\n",
    "data = np.genfromtxt('python_trends.csv', delimiter=',')"
   ]
  }
 ],
 "metadata": {
  "kernelspec": {
   "display_name": "Python 3",
   "language": "python",
   "name": "python3"
  },
  "language_info": {
   "codemirror_mode": {
    "name": "ipython",
    "version": 3
   },
   "file_extension": ".py",
   "mimetype": "text/x-python",
   "name": "python",
   "nbconvert_exporter": "python",
   "pygments_lexer": "ipython3",
   "version": "3.6.5"
  },
  "varInspector": {
   "cols": {
    "lenName": 16,
    "lenType": 16,
    "lenVar": 40
   },
   "kernels_config": {
    "python": {
     "delete_cmd_postfix": "",
     "delete_cmd_prefix": "del ",
     "library": "var_list.py",
     "varRefreshCmd": "print(var_dic_list())"
    },
    "r": {
     "delete_cmd_postfix": ") ",
     "delete_cmd_prefix": "rm(",
     "library": "var_list.r",
     "varRefreshCmd": "cat(var_dic_list()) "
    }
   },
   "types_to_exclude": [
    "module",
    "function",
    "builtin_function_or_method",
    "instance",
    "_Feature"
   ],
   "window_display": true
  }
 },
 "nbformat": 4,
 "nbformat_minor": 2
}
