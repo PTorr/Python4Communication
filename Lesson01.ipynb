{
  "nbformat": 4,
  "nbformat_minor": 0,
  "metadata": {
    "colab": {
      "name": "Lesson01.ipynb",
      "version": "0.3.2",
      "provenance": []
    },
    "kernelspec": {
      "name": "python3",
      "display_name": "Python 3"
    }
  },
  "cells": [
    {
      "metadata": {
        "id": "kwFoYq76qB8c",
        "colab_type": "text"
      },
      "cell_type": "markdown",
      "source": [
        "# Lesson 01 - Introduction\n"
      ]
    },
    {
      "metadata": {
        "id": "zTxsJxOmqQIh",
        "colab_type": "text"
      },
      "cell_type": "markdown",
      "source": [
        "## Installation\n",
        "NOTE: we will work only with **python 3 !!!**.\n",
        "\n",
        "### Local \n",
        "Python is installed locally on the computer.\n",
        "1.   https://conda.io/docs/user-guide/install/windows.html.\n",
        "2.   https://www.jetbrains.com/help/pycharm/install-and-set-up-pycharm.html (optional).\n",
        "\n",
        "### Online\n",
        "Using python without installing anything on the computer.\n",
        "1.   https://realpython.com/installing-python/#windows \n",
        "\n",
        "\n",
        "\n",
        "\n"
      ]
    },
    {
      "metadata": {
        "id": "VNSyR6fAriW1",
        "colab_type": "text"
      },
      "cell_type": "markdown",
      "source": [
        "# Simple commands"
      ]
    },
    {
      "metadata": {
        "id": "WU7pD_yArtCG",
        "colab_type": "code",
        "colab": {
          "base_uri": "https://localhost:8080/",
          "height": 34
        },
        "outputId": "930c95d6-3821-4508-fd88-286779140f66"
      },
      "cell_type": "code",
      "source": [
        "print(\"Hello, World!\")"
      ],
      "execution_count": 8,
      "outputs": [
        {
          "output_type": "stream",
          "text": [
            "Hello, \"World!\n"
          ],
          "name": "stdout"
        }
      ]
    },
    {
      "metadata": {
        "id": "OTqv48WUrxTl",
        "colab_type": "code",
        "colab": {
          "base_uri": "https://localhost:8080/",
          "height": 128
        },
        "outputId": "2d0edade-be05-497e-8ff2-1a6791de0f96"
      },
      "cell_type": "code",
      "source": [
        "print(Hello, World!)"
      ],
      "execution_count": 3,
      "outputs": [
        {
          "output_type": "error",
          "ename": "SyntaxError",
          "evalue": "ignored",
          "traceback": [
            "\u001b[0;36m  File \u001b[0;32m\"<ipython-input-3-0eb003ed9968>\"\u001b[0;36m, line \u001b[0;32m1\u001b[0m\n\u001b[0;31m    print(Hello, World!)\u001b[0m\n\u001b[0m                      ^\u001b[0m\n\u001b[0;31mSyntaxError\u001b[0m\u001b[0;31m:\u001b[0m invalid syntax\n"
          ]
        }
      ]
    },
    {
      "metadata": {
        "id": "0HyrekAxr4WG",
        "colab_type": "code",
        "colab": {
          "base_uri": "https://localhost:8080/",
          "height": 131
        },
        "outputId": "c2b0c9e1-e04c-4e6c-8266-ba78df32da2b"
      },
      "cell_type": "code",
      "source": [
        "print(\"Hello, World!)"
      ],
      "execution_count": 4,
      "outputs": [
        {
          "output_type": "error",
          "ename": "SyntaxError",
          "evalue": "ignored",
          "traceback": [
            "\u001b[0;36m  File \u001b[0;32m\"<ipython-input-4-bc0808c61f64>\"\u001b[0;36m, line \u001b[0;32m1\u001b[0m\n\u001b[0;31m    print(\"Hello, World!)\u001b[0m\n\u001b[0m                         ^\u001b[0m\n\u001b[0;31mSyntaxError\u001b[0m\u001b[0;31m:\u001b[0m EOL while scanning string literal\n"
          ]
        }
      ]
    },
    {
      "metadata": {
        "id": "R8tL1eq2r6lM",
        "colab_type": "code",
        "colab": {
          "base_uri": "https://localhost:8080/",
          "height": 35
        },
        "outputId": "08c27ae8-56ac-4d25-e11c-bec7ae66a256"
      },
      "cell_type": "code",
      "source": [
        "print(\"Hello, World!')"
      ],
      "execution_count": 7,
      "outputs": [
        {
          "output_type": "stream",
          "text": [
            "Hello, World!\n"
          ],
          "name": "stdout"
        }
      ]
    },
    {
      "metadata": {
        "id": "VZgfgVmCubZz",
        "colab_type": "code",
        "colab": {
          "base_uri": "https://localhost:8080/",
          "height": 35
        },
        "outputId": "d5c8d6ae-047d-4968-edb6-976c1d1d2758"
      },
      "cell_type": "code",
      "source": [
        "name = 'Torr'\n",
        "print(name)"
      ],
      "execution_count": 9,
      "outputs": [
        {
          "output_type": "stream",
          "text": [
            "Torr\n"
          ],
          "name": "stdout"
        }
      ]
    },
    {
      "metadata": {
        "id": "Sven4s0Quhc_",
        "colab_type": "code",
        "colab": {
          "base_uri": "https://localhost:8080/",
          "height": 35
        },
        "outputId": "ab99d425-0963-44fb-a6e8-0901c664f4e9"
      },
      "cell_type": "code",
      "source": [
        "full_name = name + ' ' + 'Polakow'\n",
        "print(full_name)"
      ],
      "execution_count": 10,
      "outputs": [
        {
          "output_type": "stream",
          "text": [
            "Torr Polakow\n"
          ],
          "name": "stdout"
        }
      ]
    },
    {
      "metadata": {
        "id": "ZkYuH7W8uteO",
        "colab_type": "code",
        "colab": {
          "base_uri": "https://localhost:8080/",
          "height": 35
        },
        "outputId": "ad688f96-8c2c-444b-fedf-8663186f7134"
      },
      "cell_type": "code",
      "source": [
        "len(full_name)"
      ],
      "execution_count": 11,
      "outputs": [
        {
          "output_type": "execute_result",
          "data": {
            "text/plain": [
              "12"
            ]
          },
          "metadata": {
            "tags": []
          },
          "execution_count": 11
        }
      ]
    },
    {
      "metadata": {
        "id": "JOIdkI0uu2A2",
        "colab_type": "code",
        "colab": {
          "base_uri": "https://localhost:8080/",
          "height": 35
        },
        "outputId": "993e12f3-f21c-48b2-dca3-a00fdaada192"
      },
      "cell_type": "code",
      "source": [
        " print(\"Hello\"[2])"
      ],
      "execution_count": 12,
      "outputs": [
        {
          "output_type": "stream",
          "text": [
            "l\n"
          ],
          "name": "stdout"
        }
      ]
    },
    {
      "metadata": {
        "id": "q6YiYT_gu2wv",
        "colab_type": "code",
        "colab": {
          "base_uri": "https://localhost:8080/",
          "height": 35
        },
        "outputId": "3faa8f8a-a31e-4a45-95ef-0dc71cddc1f9"
      },
      "cell_type": "code",
      "source": [
        " print(\"Hello\"[1:4])"
      ],
      "execution_count": 21,
      "outputs": [
        {
          "output_type": "execute_result",
          "data": {
            "text/plain": [
              "'ell'"
            ]
          },
          "metadata": {
            "tags": []
          },
          "execution_count": 21
        }
      ]
    },
    {
      "metadata": {
        "id": "vD9ecxE0u45g",
        "colab_type": "code",
        "colab": {
          "base_uri": "https://localhost:8080/",
          "height": 35
        },
        "outputId": "21a928cf-b7b0-4f37-cfe1-a26db61d7075"
      },
      "cell_type": "code",
      "source": [
        "name = 'torr'\n",
        "name.capitalize()"
      ],
      "execution_count": 14,
      "outputs": [
        {
          "output_type": "execute_result",
          "data": {
            "text/plain": [
              "'Torr'"
            ]
          },
          "metadata": {
            "tags": []
          },
          "execution_count": 14
        }
      ]
    },
    {
      "metadata": {
        "id": "5JJ6fG6G8JwL",
        "colab_type": "code",
        "colab": {
          "base_uri": "https://localhost:8080/",
          "height": 35
        },
        "outputId": "b90bbfcc-77ff-4d97-c24f-71c4d4579e84"
      },
      "cell_type": "code",
      "source": [
        "name = 'torr'\n",
        "name.upper()"
      ],
      "execution_count": 24,
      "outputs": [
        {
          "output_type": "stream",
          "text": [
            "TORR\n"
          ],
          "name": "stdout"
        }
      ]
    },
    {
      "metadata": {
        "id": "7vNZ89l68NHk",
        "colab_type": "code",
        "colab": {
          "base_uri": "https://localhost:8080/",
          "height": 35
        },
        "outputId": "67ed44e3-4afb-46a5-da50-e407c60aac68"
      },
      "cell_type": "code",
      "source": [
        "name = 'TORR'\n",
        "name.lower()"
      ],
      "execution_count": 20,
      "outputs": [
        {
          "output_type": "execute_result",
          "data": {
            "text/plain": [
              "\"torr'\""
            ]
          },
          "metadata": {
            "tags": []
          },
          "execution_count": 20
        }
      ]
    },
    {
      "metadata": {
        "id": "4_xfMoktvIQp",
        "colab_type": "code",
        "colab": {
          "base_uri": "https://localhost:8080/",
          "height": 35
        },
        "outputId": "6b1ec258-5e78-4edb-f005-e3cb337f2d52"
      },
      "cell_type": "code",
      "source": [
        "name = \"John Doe\"\n",
        "greeting = \"My name is {}\".format(name)\n",
        "print(greeting)"
      ],
      "execution_count": 26,
      "outputs": [
        {
          "output_type": "execute_result",
          "data": {
            "text/plain": [
              "'My name is John Doep'"
            ]
          },
          "metadata": {
            "tags": []
          },
          "execution_count": 26
        }
      ]
    },
    {
      "metadata": {
        "id": "nsFFLFeMvJOd",
        "colab_type": "code",
        "colab": {
          "base_uri": "https://localhost:8080/",
          "height": 52
        },
        "outputId": "5422679c-a6a4-4ea5-8186-e5a8edbc10fe"
      },
      "cell_type": "code",
      "source": [
        "are_you_happy = \"     Yes      \"\n",
        "are_you_happy.strip()"
      ],
      "execution_count": 28,
      "outputs": [
        {
          "output_type": "stream",
          "text": [
            "     Yes      \n"
          ],
          "name": "stdout"
        },
        {
          "output_type": "execute_result",
          "data": {
            "text/plain": [
              "'Yes'"
            ]
          },
          "metadata": {
            "tags": []
          },
          "execution_count": 28
        }
      ]
    },
    {
      "metadata": {
        "id": "R3UjQU9cuukH",
        "colab_type": "text"
      },
      "cell_type": "markdown",
      "source": [
        "### Basic math"
      ]
    },
    {
      "metadata": {
        "id": "R-BF8_f2sQQY",
        "colab_type": "code",
        "colab": {
          "base_uri": "https://localhost:8080/",
          "height": 35
        },
        "outputId": "c61fdc4d-10c0-4d5c-9c51-2d7d4787dd66"
      },
      "cell_type": "code",
      "source": [
        "2 + 3"
      ],
      "execution_count": 29,
      "outputs": [
        {
          "output_type": "execute_result",
          "data": {
            "text/plain": [
              "5"
            ]
          },
          "metadata": {
            "tags": []
          },
          "execution_count": 29
        }
      ]
    },
    {
      "metadata": {
        "id": "UbQVz0d0tTl2",
        "colab_type": "code",
        "colab": {}
      },
      "cell_type": "code",
      "source": [
        "n = 500\n",
        "m = 10\n",
        "l = 3"
      ],
      "execution_count": 0,
      "outputs": []
    },
    {
      "metadata": {
        "id": "28beQGcxtcdj",
        "colab_type": "code",
        "colab": {
          "base_uri": "https://localhost:8080/",
          "height": 35
        },
        "outputId": "17b973e3-a046-4b9f-d8df-2efd4860222e"
      },
      "cell_type": "code",
      "source": [
        "n+m"
      ],
      "execution_count": 31,
      "outputs": [
        {
          "output_type": "execute_result",
          "data": {
            "text/plain": [
              "510"
            ]
          },
          "metadata": {
            "tags": []
          },
          "execution_count": 31
        }
      ]
    },
    {
      "metadata": {
        "id": "P16D-R8hteU4",
        "colab_type": "code",
        "colab": {
          "base_uri": "https://localhost:8080/",
          "height": 35
        },
        "outputId": "28e880c4-53fe-42b8-8840-a34564869c31"
      },
      "cell_type": "code",
      "source": [
        "n/m"
      ],
      "execution_count": 32,
      "outputs": [
        {
          "output_type": "execute_result",
          "data": {
            "text/plain": [
              "50.0"
            ]
          },
          "metadata": {
            "tags": []
          },
          "execution_count": 32
        }
      ]
    },
    {
      "metadata": {
        "id": "x63KsUBStfcS",
        "colab_type": "code",
        "colab": {
          "base_uri": "https://localhost:8080/",
          "height": 35
        },
        "outputId": "a9187cce-6730-431d-c746-7eb580858fd6"
      },
      "cell_type": "code",
      "source": [
        "n/l"
      ],
      "execution_count": 33,
      "outputs": [
        {
          "output_type": "execute_result",
          "data": {
            "text/plain": [
              "166.66666666666666"
            ]
          },
          "metadata": {
            "tags": []
          },
          "execution_count": 33
        }
      ]
    },
    {
      "metadata": {
        "id": "f4p1Gfspt756",
        "colab_type": "code",
        "colab": {
          "base_uri": "https://localhost:8080/",
          "height": 35
        },
        "outputId": "356ca76d-8ae7-4e61-bf8e-617a8a58a235"
      },
      "cell_type": "code",
      "source": [
        "m/l"
      ],
      "execution_count": 34,
      "outputs": [
        {
          "output_type": "execute_result",
          "data": {
            "text/plain": [
              "3.3333333333333335"
            ]
          },
          "metadata": {
            "tags": []
          },
          "execution_count": 34
        }
      ]
    },
    {
      "metadata": {
        "id": "XykECSqruVXs",
        "colab_type": "code",
        "colab": {
          "base_uri": "https://localhost:8080/",
          "height": 35
        },
        "outputId": "ede36aef-2d48-4933-fc86-0ae26c6cf6a1"
      },
      "cell_type": "code",
      "source": [
        "m/float(l)"
      ],
      "execution_count": 35,
      "outputs": [
        {
          "output_type": "execute_result",
          "data": {
            "text/plain": [
              "3.3333333333333335"
            ]
          },
          "metadata": {
            "tags": []
          },
          "execution_count": 35
        }
      ]
    },
    {
      "metadata": {
        "id": "DspMrw_lt2dU",
        "colab_type": "code",
        "colab": {
          "base_uri": "https://localhost:8080/",
          "height": 35
        },
        "outputId": "e3be9c7f-021e-4822-b6c0-5beee722959a"
      },
      "cell_type": "code",
      "source": [
        "m % l"
      ],
      "execution_count": 36,
      "outputs": [
        {
          "output_type": "execute_result",
          "data": {
            "text/plain": [
              "1"
            ]
          },
          "metadata": {
            "tags": []
          },
          "execution_count": 36
        }
      ]
    },
    {
      "metadata": {
        "id": "ZuRWK6_it_Gl",
        "colab_type": "code",
        "colab": {
          "base_uri": "https://localhost:8080/",
          "height": 35
        },
        "outputId": "f87bb492-00bd-40ea-b710-4db999325d30"
      },
      "cell_type": "code",
      "source": [
        "m ** 2"
      ],
      "execution_count": 37,
      "outputs": [
        {
          "output_type": "execute_result",
          "data": {
            "text/plain": [
              "100"
            ]
          },
          "metadata": {
            "tags": []
          },
          "execution_count": 37
        }
      ]
    },
    {
      "metadata": {
        "id": "hicyDtJEt1c1",
        "colab_type": "text"
      },
      "cell_type": "markdown",
      "source": [
        "### Basic logic"
      ]
    },
    {
      "metadata": {
        "id": "N9VnfAkct903",
        "colab_type": "code",
        "colab": {
          "base_uri": "https://localhost:8080/",
          "height": 35
        },
        "outputId": "034a5e98-3a70-4e45-ed17-3b59d8234348"
      },
      "cell_type": "code",
      "source": [
        "2 < 5"
      ],
      "execution_count": 38,
      "outputs": [
        {
          "output_type": "execute_result",
          "data": {
            "text/plain": [
              "True"
            ]
          },
          "metadata": {
            "tags": []
          },
          "execution_count": 38
        }
      ]
    },
    {
      "metadata": {
        "id": "AsE7K0touIeX",
        "colab_type": "code",
        "colab": {
          "base_uri": "https://localhost:8080/",
          "height": 35
        },
        "outputId": "1c8c9468-e911-4885-f974-6f519bbd8f29"
      },
      "cell_type": "code",
      "source": [
        "4 > 10"
      ],
      "execution_count": 39,
      "outputs": [
        {
          "output_type": "execute_result",
          "data": {
            "text/plain": [
              "False"
            ]
          },
          "metadata": {
            "tags": []
          },
          "execution_count": 39
        }
      ]
    },
    {
      "metadata": {
        "id": "2ATbaraauMs_",
        "colab_type": "code",
        "colab": {
          "base_uri": "https://localhost:8080/",
          "height": 35
        },
        "outputId": "d13cc39a-0cca-419d-9016-e236020a66a2"
      },
      "cell_type": "code",
      "source": [
        "3 >= 3"
      ],
      "execution_count": 40,
      "outputs": [
        {
          "output_type": "execute_result",
          "data": {
            "text/plain": [
              "True"
            ]
          },
          "metadata": {
            "tags": []
          },
          "execution_count": 40
        }
      ]
    },
    {
      "metadata": {
        "id": "cGRl84_LuOv1",
        "colab_type": "code",
        "colab": {
          "base_uri": "https://localhost:8080/",
          "height": 35
        },
        "outputId": "a789ad63-b6e8-42f3-b7c4-95eb55f039be"
      },
      "cell_type": "code",
      "source": [
        "5 == 6"
      ],
      "execution_count": 41,
      "outputs": [
        {
          "output_type": "execute_result",
          "data": {
            "text/plain": [
              "False"
            ]
          },
          "metadata": {
            "tags": []
          },
          "execution_count": 41
        }
      ]
    },
    {
      "metadata": {
        "id": "LOGXFcgkuQvc",
        "colab_type": "code",
        "colab": {
          "base_uri": "https://localhost:8080/",
          "height": 35
        },
        "outputId": "e60ded3b-4724-46cd-fe97-f8efa3ff6914"
      },
      "cell_type": "code",
      "source": [
        "6 != 9"
      ],
      "execution_count": 44,
      "outputs": [
        {
          "output_type": "execute_result",
          "data": {
            "text/plain": [
              "True"
            ]
          },
          "metadata": {
            "tags": []
          },
          "execution_count": 44
        }
      ]
    },
    {
      "metadata": {
        "id": "tiH6q9kjvOgL",
        "colab_type": "text"
      },
      "cell_type": "markdown",
      "source": [
        "# Lists"
      ]
    },
    {
      "metadata": {
        "id": "3wY5f0c_vQB5",
        "colab_type": "code",
        "colab": {
          "base_uri": "https://localhost:8080/",
          "height": 35
        },
        "outputId": "efba049d-008d-4074-a328-d6d629d43d61"
      },
      "cell_type": "code",
      "source": [
        "create_a_list = []\n",
        "create_a_list"
      ],
      "execution_count": 45,
      "outputs": [
        {
          "output_type": "execute_result",
          "data": {
            "text/plain": [
              "[]"
            ]
          },
          "metadata": {
            "tags": []
          },
          "execution_count": 45
        }
      ]
    },
    {
      "metadata": {
        "id": "bWUFbEJOzkMQ",
        "colab_type": "code",
        "colab": {
          "base_uri": "https://localhost:8080/",
          "height": 35
        },
        "outputId": "75fee1c2-e682-470a-c203-d5ad7a3afd90"
      },
      "cell_type": "code",
      "source": [
        "numbers_list = [1, 2, 3, 200]\n",
        "numbers_list"
      ],
      "execution_count": 50,
      "outputs": [
        {
          "output_type": "execute_result",
          "data": {
            "text/plain": [
              "[1, 2, 3, 200]"
            ]
          },
          "metadata": {
            "tags": []
          },
          "execution_count": 50
        }
      ]
    },
    {
      "metadata": {
        "id": "JQVBOKWVzn-z",
        "colab_type": "code",
        "colab": {
          "base_uri": "https://localhost:8080/",
          "height": 35
        },
        "outputId": "93a92951-358d-4dc4-e1bc-5a86cd0fc1e7"
      },
      "cell_type": "code",
      "source": [
        "strings_list = [\"batman\", \"superman\", \"iron man\"]\n",
        "strings_list"
      ],
      "execution_count": 51,
      "outputs": [
        {
          "output_type": "execute_result",
          "data": {
            "text/plain": [
              "['batman', 'superman', 'iron man']"
            ]
          },
          "metadata": {
            "tags": []
          },
          "execution_count": 51
        }
      ]
    },
    {
      "metadata": {
        "id": "ioCV9tIQzpuX",
        "colab_type": "code",
        "colab": {
          "base_uri": "https://localhost:8080/",
          "height": 35
        },
        "outputId": "6b9bb112-7a94-4e70-9ff7-831c117a7b41"
      },
      "cell_type": "code",
      "source": [
        "mixed_list = [\"Hello World\", [4, 5, 6], False]\n",
        "mixed_list[1][-1]"
      ],
      "execution_count": 55,
      "outputs": [
        {
          "output_type": "execute_result",
          "data": {
            "text/plain": [
              "6"
            ]
          },
          "metadata": {
            "tags": []
          },
          "execution_count": 55
        }
      ]
    },
    {
      "metadata": {
        "id": "pCs5YSPjzwqD",
        "colab_type": "code",
        "colab": {
          "base_uri": "https://localhost:8080/",
          "height": 35
        },
        "outputId": "d0619a38-c0a9-4e56-d7aa-6d7f455ad98e"
      },
      "cell_type": "code",
      "source": [
        "# numbers_list[0]\n",
        "\n",
        "# numbers_list[0:1]\n",
        "\n",
        "numbers_list[0:2]"
      ],
      "execution_count": 58,
      "outputs": [
        {
          "output_type": "execute_result",
          "data": {
            "text/plain": [
              "[1, 2]"
            ]
          },
          "metadata": {
            "tags": []
          },
          "execution_count": 58
        }
      ]
    },
    {
      "metadata": {
        "id": "vSAL6Iczzzi3",
        "colab_type": "code",
        "colab": {
          "base_uri": "https://localhost:8080/",
          "height": 35
        },
        "outputId": "14a22751-5af1-48ba-ae7d-9c6093500c0c"
      },
      "cell_type": "code",
      "source": [
        "strings_list[0]"
      ],
      "execution_count": 67,
      "outputs": [
        {
          "output_type": "execute_result",
          "data": {
            "text/plain": [
              "'batman'"
            ]
          },
          "metadata": {
            "tags": []
          },
          "execution_count": 67
        }
      ]
    },
    {
      "metadata": {
        "id": "3PuE2bKMz9Bt",
        "colab_type": "code",
        "colab": {
          "base_uri": "https://localhost:8080/",
          "height": 35
        },
        "outputId": "72025866-69d2-49a8-fa8a-93aea70a1840"
      },
      "cell_type": "code",
      "source": [
        "fruits = [\"apples\", \"grapes\", \"oranges\"]\n",
        "veggies = [\"corn\", \"kale\", \"mushrooms\"]\n",
        "grocery_list = fruits + veggies\n",
        "grocery_list"
      ],
      "execution_count": 68,
      "outputs": [
        {
          "output_type": "execute_result",
          "data": {
            "text/plain": [
              "['apples', 'grapes', 'oranges', 'corn', 'kale', 'mushrooms']"
            ]
          },
          "metadata": {
            "tags": []
          },
          "execution_count": 68
        }
      ]
    },
    {
      "metadata": {
        "id": "izewGYZr0BlU",
        "colab_type": "code",
        "colab": {
          "base_uri": "https://localhost:8080/",
          "height": 35
        },
        "outputId": "611cd0f7-9c09-4ce6-b259-7703145a8fad"
      },
      "cell_type": "code",
      "source": [
        "fruits = [\"apples\", \"grapes\", \"oranges\"]\n",
        "fruits.append(\"blueberries\")\n",
        "fruits"
      ],
      "execution_count": 69,
      "outputs": [
        {
          "output_type": "execute_result",
          "data": {
            "text/plain": [
              "['apples', 'grapes', 'oranges', 'blueberries']"
            ]
          },
          "metadata": {
            "tags": []
          },
          "execution_count": 69
        }
      ]
    },
    {
      "metadata": {
        "id": "-vtNujhU0IuY",
        "colab_type": "code",
        "colab": {
          "base_uri": "https://localhost:8080/",
          "height": 35
        },
        "outputId": "af1f5fd6-9046-4585-82ff-597b7e646e01"
      },
      "cell_type": "code",
      "source": [
        "fruits.sort()\n",
        "fruits"
      ],
      "execution_count": 70,
      "outputs": [
        {
          "output_type": "execute_result",
          "data": {
            "text/plain": [
              "['apples', 'blueberries', 'grapes', 'oranges']"
            ]
          },
          "metadata": {
            "tags": []
          },
          "execution_count": 70
        }
      ]
    },
    {
      "metadata": {
        "id": "sB4d0PQG01Yn",
        "colab_type": "code",
        "colab": {
          "base_uri": "https://localhost:8080/",
          "height": 35
        },
        "outputId": "242181f5-2d27-4883-a816-cdc724d12c48"
      },
      "cell_type": "code",
      "source": [
        "fruits.reverse()\n",
        "fruits"
      ],
      "execution_count": 71,
      "outputs": [
        {
          "output_type": "execute_result",
          "data": {
            "text/plain": [
              "['oranges', 'grapes', 'blueberries', 'apples']"
            ]
          },
          "metadata": {
            "tags": []
          },
          "execution_count": 71
        }
      ]
    },
    {
      "metadata": {
        "id": "7JIWnjqP0rZR",
        "colab_type": "code",
        "colab": {
          "base_uri": "https://localhost:8080/",
          "height": 35
        },
        "outputId": "4222414f-cb64-443f-9149-00e943bedac5"
      },
      "cell_type": "code",
      "source": [
        "fruits.pop(1)\n",
        "fruits"
      ],
      "execution_count": 72,
      "outputs": [
        {
          "output_type": "execute_result",
          "data": {
            "text/plain": [
              "['oranges', 'blueberries', 'apples']"
            ]
          },
          "metadata": {
            "tags": []
          },
          "execution_count": 72
        }
      ]
    },
    {
      "metadata": {
        "id": "76h1PiBy0Os-",
        "colab_type": "text"
      },
      "cell_type": "markdown",
      "source": [
        "# Tuples"
      ]
    },
    {
      "metadata": {
        "id": "ZXpH7Kne0MIw",
        "colab_type": "code",
        "colab": {
          "base_uri": "https://localhost:8080/",
          "height": 35
        },
        "outputId": "271f06bf-bce8-4f4e-e186-78fc567678cf"
      },
      "cell_type": "code",
      "source": [
        "my_tuple = (\"Michael\", \"Herman\", 31, \"Software Developer\")\n",
        "my_tuple[1]"
      ],
      "execution_count": 73,
      "outputs": [
        {
          "output_type": "execute_result",
          "data": {
            "text/plain": [
              "'Herman'"
            ]
          },
          "metadata": {
            "tags": []
          },
          "execution_count": 73
        }
      ]
    },
    {
      "metadata": {
        "id": "LgK5JI9-0YM6",
        "colab_type": "code",
        "colab": {
          "base_uri": "https://localhost:8080/",
          "height": 34
        },
        "outputId": "ed0bb009-9909-440c-f472-3fd357da0295"
      },
      "cell_type": "code",
      "source": [
        "first_tuple = (1, 2)\n",
        "second_tuple = (3, 4)\n",
        "third_tuple = first_tuple + second_tuple\n",
        "third_tuple"
      ],
      "execution_count": 74,
      "outputs": [
        {
          "output_type": "execute_result",
          "data": {
            "text/plain": [
              "(1, 2, 3, 4)"
            ]
          },
          "metadata": {
            "tags": []
          },
          "execution_count": 74
        }
      ]
    },
    {
      "metadata": {
        "id": "P7xn6g1f0jMn",
        "colab_type": "text"
      },
      "cell_type": "markdown",
      "source": [
        "Convert tuple to list:"
      ]
    },
    {
      "metadata": {
        "id": "P47LEEMj0f2P",
        "colab_type": "code",
        "colab": {
          "base_uri": "https://localhost:8080/",
          "height": 34
        },
        "outputId": "1625e167-9b7d-4cb6-a3ce-34139ee7bf0e"
      },
      "cell_type": "code",
      "source": [
        "first_tuple = (1, 2)\n",
        "list(first_tuple)"
      ],
      "execution_count": 75,
      "outputs": [
        {
          "output_type": "execute_result",
          "data": {
            "text/plain": [
              "[1, 2]"
            ]
          },
          "metadata": {
            "tags": []
          },
          "execution_count": 75
        }
      ]
    },
    {
      "metadata": {
        "id": "QDPhDtaN0-a-",
        "colab_type": "text"
      },
      "cell_type": "markdown",
      "source": [
        "# Dictionaries"
      ]
    },
    {
      "metadata": {
        "id": "JOjiTn0C0lZm",
        "colab_type": "code",
        "colab": {
          "base_uri": "https://localhost:8080/",
          "height": 67
        },
        "outputId": "d6fa5ad4-77af-4b0c-dc30-e8a502e6ca47"
      },
      "cell_type": "code",
      "source": [
        "my_dict = {\"Key 1\": \"Value 1\", \n",
        "           \"name\": \"michael herman\", \n",
        "           \"pi\": 3.14,\n",
        "          'course':'python'}\n",
        "print(my_dict[\"name\"])\n",
        "print(my_dict[\"Key 1\"])\n",
        "print(my_dict[\"course\"])"
      ],
      "execution_count": 79,
      "outputs": [
        {
          "output_type": "stream",
          "text": [
            "michael herman\n",
            "Value 1\n",
            "python\n"
          ],
          "name": "stdout"
        }
      ]
    },
    {
      "metadata": {
        "id": "qvVqcR061KOt",
        "colab_type": "code",
        "colab": {
          "base_uri": "https://localhost:8080/",
          "height": 101
        },
        "outputId": "5472aac7-35f8-41d7-d3f9-ae26cfe9eb65"
      },
      "cell_type": "code",
      "source": [
        "my_dict['torr'] = 'ta'\n",
        "my_dict\n"
      ],
      "execution_count": 80,
      "outputs": [
        {
          "output_type": "execute_result",
          "data": {
            "text/plain": [
              "{'Key 1': 'Value 1',\n",
              " 'course': 'python',\n",
              " 'name': 'michael herman',\n",
              " 'pi': 3.14,\n",
              " 'torr': 'ta'}"
            ]
          },
          "metadata": {
            "tags": []
          },
          "execution_count": 80
        }
      ]
    },
    {
      "metadata": {
        "id": "KFKaewP51V_8",
        "colab_type": "code",
        "colab": {
          "base_uri": "https://localhost:8080/",
          "height": 34
        },
        "outputId": "c0c3b522-38ca-46dd-e6be-2d0aae95ed3a"
      },
      "cell_type": "code",
      "source": [
        "my_dict.keys()"
      ],
      "execution_count": 81,
      "outputs": [
        {
          "output_type": "execute_result",
          "data": {
            "text/plain": [
              "dict_keys(['Key 1', 'name', 'pi', 'course', 'torr'])"
            ]
          },
          "metadata": {
            "tags": []
          },
          "execution_count": 81
        }
      ]
    },
    {
      "metadata": {
        "id": "ZaFqouLf1kSI",
        "colab_type": "code",
        "colab": {
          "base_uri": "https://localhost:8080/",
          "height": 34
        },
        "outputId": "97c88cba-e5bb-4cf6-9394-4ccef3399915"
      },
      "cell_type": "code",
      "source": [
        "my_dict.values()"
      ],
      "execution_count": 82,
      "outputs": [
        {
          "output_type": "execute_result",
          "data": {
            "text/plain": [
              "dict_values(['Value 1', 'michael herman', 3.14, 'python', 'ta'])"
            ]
          },
          "metadata": {
            "tags": []
          },
          "execution_count": 82
        }
      ]
    },
    {
      "metadata": {
        "id": "fjxhKo-h2Q_L",
        "colab_type": "text"
      },
      "cell_type": "markdown",
      "source": [
        "#Extra"
      ]
    },
    {
      "metadata": {
        "id": "L90viLfe2P39",
        "colab_type": "code",
        "colab": {
          "base_uri": "https://localhost:8080/",
          "height": 34
        },
        "outputId": "b9f7c39c-3652-48b9-9b6c-b1f349a4d93a"
      },
      "cell_type": "code",
      "source": [
        "my_input = input('What is your name?')"
      ],
      "execution_count": 86,
      "outputs": [
        {
          "output_type": "stream",
          "text": [
            "What is your name?tpoipbowigrse igseproi potsre\n"
          ],
          "name": "stdout"
        }
      ]
    },
    {
      "metadata": {
        "id": "TIqtaL852bCq",
        "colab_type": "code",
        "colab": {
          "base_uri": "https://localhost:8080/",
          "height": 34
        },
        "outputId": "60df2d63-4f4b-4ecd-af89-a9d073d89110"
      },
      "cell_type": "code",
      "source": [
        "print(my_input)"
      ],
      "execution_count": 87,
      "outputs": [
        {
          "output_type": "stream",
          "text": [
            "tpoipbowigrse igseproi potsre\n"
          ],
          "name": "stdout"
        }
      ]
    },
    {
      "metadata": {
        "id": "SlAif39y2e89",
        "colab_type": "code",
        "colab": {
          "base_uri": "https://localhost:8080/",
          "height": 128
        },
        "outputId": "01423a61-ad0d-4ab0-a367-10f16568e8f4"
      },
      "cell_type": "code",
      "source": [
        "a = 6\n",
        "b = 7.5345829360523750987325275\n",
        "c = [1,2,3]\n",
        "d = {'a':1, 'b':2}\n",
        "\n",
        "print('the type of a is ', type(a), 'good')\n",
        "print('the type of a is ' type(b))\n",
        "print('the type of a is ', type(c))\n",
        "print('the type of a is ', type(d))"
      ],
      "execution_count": 90,
      "outputs": [
        {
          "output_type": "error",
          "ename": "SyntaxError",
          "evalue": "ignored",
          "traceback": [
            "\u001b[0;36m  File \u001b[0;32m\"<ipython-input-90-4c0f0eb42664>\"\u001b[0;36m, line \u001b[0;32m7\u001b[0m\n\u001b[0;31m    print('the type of a is ' type(b))\u001b[0m\n\u001b[0m                                 ^\u001b[0m\n\u001b[0;31mSyntaxError\u001b[0m\u001b[0;31m:\u001b[0m invalid syntax\n"
          ]
        }
      ]
    },
    {
      "metadata": {
        "id": "1XSl6Qhe7JMI",
        "colab_type": "code",
        "colab": {
          "base_uri": "https://localhost:8080/",
          "height": 84
        },
        "outputId": "7f98c26e-ad70-4c63-e06b-e6de9c1c05f0"
      },
      "cell_type": "code",
      "source": [
        "print('the type of a is %s'% type(a))\n",
        "print('the type of a is %d'% a)\n",
        "print('the type of a is %f'% b)\n",
        "print('the type of a is %.2f %d'% (b,a))"
      ],
      "execution_count": 93,
      "outputs": [
        {
          "output_type": "stream",
          "text": [
            "the type of a is <class 'int'>\n",
            "the type of a is 6\n",
            "the type of a is 7.534583\n",
            "the type of a is 7.53 6\n"
          ],
          "name": "stdout"
        }
      ]
    },
    {
      "metadata": {
        "id": "Tn1Z54DR7eZE",
        "colab_type": "code",
        "colab": {}
      },
      "cell_type": "code",
      "source": [
        ""
      ],
      "execution_count": 0,
      "outputs": []
    }
  ]
}